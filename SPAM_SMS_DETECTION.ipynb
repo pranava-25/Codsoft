{
  "nbformat": 4,
  "nbformat_minor": 0,
  "metadata": {
    "colab": {
      "provenance": [],
      "mount_file_id": "12VtPTEjOTUJjkhm3qjI7Bdk6Erco_cVd",
      "authorship_tag": "ABX9TyN7DWDEPscPt0FEKd9kQOnm",
      "include_colab_link": true
    },
    "kernelspec": {
      "name": "python3",
      "display_name": "Python 3"
    },
    "language_info": {
      "name": "python"
    }
  },
  "cells": [
    {
      "cell_type": "markdown",
      "metadata": {
        "id": "view-in-github",
        "colab_type": "text"
      },
      "source": [
        "<a href=\"https://colab.research.google.com/github/pranava-25/Codsoft/blob/main/SPAM_SMS_DETECTION.ipynb\" target=\"_parent\"><img src=\"https://colab.research.google.com/assets/colab-badge.svg\" alt=\"Open In Colab\"/></a>"
      ]
    },
    {
      "cell_type": "code",
      "execution_count": null,
      "metadata": {
        "id": "_jNE6nGE6jjx"
      },
      "outputs": [],
      "source": [
        "import pandas as pd\n",
        "import numpy as np\n",
        "from sklearn.model_selection import train_test_split\n",
        "from sklearn.feature_extraction.text import TfidfVectorizer\n",
        "from sklearn.naive_bayes import MultinomialNB\n",
        "from sklearn.linear_model import LogisticRegression\n",
        "from sklearn.svm import LinearSVC\n",
        "from sklearn.metrics import classification_report, accuracy_score, confusion_matrix\n",
        "import seaborn as sns\n",
        "import matplotlib.pyplot as plt\n",
        "import joblib"
      ]
    },
    {
      "cell_type": "code",
      "source": [
        "def load_data(path):\n",
        "    df = pd.read_csv(\"/content/spam.csv\", encoding=\"latin-1\")\n",
        "    df = df[['v1', 'v2']]\n",
        "    df.columns = ['label', 'message']\n",
        "    df['label'] = df['label'].map({'ham': 0, 'spam': 1})\n",
        "    return df"
      ],
      "metadata": {
        "id": "SaKi4ozQ60xc"
      },
      "execution_count": null,
      "outputs": []
    },
    {
      "cell_type": "code",
      "source": [
        "def vectorize_text(X_train, X_test):\n",
        "    vectorizer = TfidfVectorizer(stop_words='english')\n",
        "    X_train_vec = vectorizer.fit_transform(X_train)\n",
        "    X_test_vec = vectorizer.transform(X_test)\n",
        "    return X_train_vec, X_test_vec, vectorizer"
      ],
      "metadata": {
        "id": "gKwW6yhZ8O0-"
      },
      "execution_count": null,
      "outputs": []
    },
    {
      "cell_type": "code",
      "source": [
        "def train_and_evaluate(X_train_vec, X_test_vec, y_train, y_test):\n",
        "    models = {\n",
        "        \"Naive Bayes\": MultinomialNB(),\n",
        "        \"Logistic Regression\": LogisticRegression(max_iter=1000),\n",
        "        \"SVM\": LinearSVC()\n",
        "    }\n",
        "\n",
        "    best_model = None\n",
        "    best_acc = 0\n",
        "\n",
        "    for name, model in models.items():\n",
        "        model.fit(X_train_vec, y_train)\n",
        "        preds = model.predict(X_test_vec)\n",
        "        acc = accuracy_score(y_test, preds)\n",
        "\n",
        "        print(f\"\\n{name} Accuracy: {acc:.4f}\")\n",
        "        print(classification_report(y_test, preds))\n",
        "\n",
        "        if acc > best_acc:\n",
        "            best_acc = acc\n",
        "            best_model = model\n",
        "\n",
        "    return best_model"
      ],
      "metadata": {
        "id": "dwFCyj818Vn3"
      },
      "execution_count": null,
      "outputs": []
    },
    {
      "cell_type": "code",
      "source": [
        "def predict_message(model, vectorizer, message):\n",
        "    msg_vec = vectorizer.transform([message])\n",
        "    prediction = model.predict(msg_vec)[0]\n",
        "    return \"Spam\" if prediction == 1 else \"Ham\""
      ],
      "metadata": {
        "id": "pR4wAuWL8cuj"
      },
      "execution_count": null,
      "outputs": []
    },
    {
      "cell_type": "code",
      "source": [
        "def plot_confusion_matrix(y_true, y_pred, title):\n",
        "    cm = confusion_matrix(y_true, y_pred)\n",
        "    sns.heatmap(cm, annot=True, fmt='d', cmap='Blues')\n",
        "    plt.xlabel(\"Predicted\")\n",
        "    plt.ylabel(\"Actual\")\n",
        "    plt.title(title)\n",
        "    plt.show()"
      ],
      "metadata": {
        "id": "Q1zFR0qi8ieQ"
      },
      "execution_count": null,
      "outputs": []
    },
    {
      "cell_type": "code",
      "source": [
        "def main():\n",
        "    df = load_data(\"spam.csv\")\n",
        "    X_train, X_test, y_train, y_test = train_test_split(df['message'], df['label'], test_size=0.2, random_state=42)\n",
        "    X_train_vec, X_test_vec, vectorizer = vectorize_text(X_train, X_test)\n",
        "\n",
        "    best_model = train_and_evaluate(X_train_vec, X_test_vec, y_train, y_test)\n",
        "    y_pred = best_model.predict(X_test_vec)\n",
        "    joblib.dump(best_model, \"best_spam_model.pkl\")\n",
        "    joblib.dump(vectorizer, \"tfidf_vectorizer.pkl\")\n",
        "    print(\"\\nSaved the best model and vectorizer to disk.\")\n",
        "    plot_confusion_matrix(y_test, y_pred, \"Confusion Matrix - Best Model\")\n",
        "    sample_msg = \"Congratulations! You've won a free ticket to Bahamas. Call now!\"\n",
        "    result = predict_message(best_model, vectorizer, sample_msg)\n",
        "    print(f\"\\nPrediction for sample message: '{sample_msg}' => {result}\")"
      ],
      "metadata": {
        "id": "_BFltzdT8qs0"
      },
      "execution_count": null,
      "outputs": []
    },
    {
      "cell_type": "code",
      "source": [
        "if __name__ == \"__main__\":\n",
        "    main()"
      ],
      "metadata": {
        "colab": {
          "base_uri": "https://localhost:8080/",
          "height": 1000
        },
        "id": "47vnQynN8wFF",
        "outputId": "b9fddc0b-f690-4c29-8467-f2bdd74fecb4"
      },
      "execution_count": null,
      "outputs": [
        {
          "output_type": "stream",
          "name": "stdout",
          "text": [
            "\n",
            "Naive Bayes Accuracy: 0.9668\n",
            "              precision    recall  f1-score   support\n",
            "\n",
            "           0       0.96      1.00      0.98       965\n",
            "           1       1.00      0.75      0.86       150\n",
            "\n",
            "    accuracy                           0.97      1115\n",
            "   macro avg       0.98      0.88      0.92      1115\n",
            "weighted avg       0.97      0.97      0.96      1115\n",
            "\n",
            "\n",
            "Logistic Regression Accuracy: 0.9525\n",
            "              precision    recall  f1-score   support\n",
            "\n",
            "           0       0.95      1.00      0.97       965\n",
            "           1       0.97      0.67      0.79       150\n",
            "\n",
            "    accuracy                           0.95      1115\n",
            "   macro avg       0.96      0.83      0.88      1115\n",
            "weighted avg       0.95      0.95      0.95      1115\n",
            "\n",
            "\n",
            "SVM Accuracy: 0.9785\n",
            "              precision    recall  f1-score   support\n",
            "\n",
            "           0       0.98      0.99      0.99       965\n",
            "           1       0.96      0.87      0.92       150\n",
            "\n",
            "    accuracy                           0.98      1115\n",
            "   macro avg       0.97      0.93      0.95      1115\n",
            "weighted avg       0.98      0.98      0.98      1115\n",
            "\n",
            "\n",
            "Saved the best model and vectorizer to disk.\n"
          ]
        },
        {
          "output_type": "display_data",
          "data": {
            "text/plain": [
              "<Figure size 640x480 with 2 Axes>"
            ],
            "image/png": "[encoded data removed]"
          },
          "metadata": {}
        },
        {
          "output_type": "stream",
          "name": "stdout",
          "text": [
            "\n",
            "Prediction for sample message: 'Congratulations! You've won a free ticket to Bahamas. Call now!' => Ham\n"
          ]
        }
      ]
    }
  ]
}